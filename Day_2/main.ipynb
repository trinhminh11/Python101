{
 "cells": [
  {
   "cell_type": "markdown",
   "id": "96ecf58b",
   "metadata": {},
   "source": [
    "# Numpy module\n",
    "\n",
    "installation:\n",
    "\n",
    "```bash\n",
    "uv add numpy\n",
    "or\n",
    "pip install numpy\n",
    "```\n",
    "\n",
    "usage\n",
    "\n",
    "```py\n",
    "import numpy as np\n",
    "```\n",
    "\n",
    "NumPy is the fundamental package for scientific computing in Python. It is a Python library that provides a multidimensional array object, various derived objects (such as masked arrays and matrices), and an assortment of routines for fast operations on arrays, including mathematical, logical, shape manipulation, sorting, selecting, I/O, discrete Fourier transforms, basic linear algebra, basic statistical operations, random simulation and much more.\n",
    "\n",
    "At the core of the NumPy package, is the ndarray object. This encapsulates n-dimensional arrays of homogeneous data types, with many operations being performed in compiled code for performance. There are several important differences between NumPy arrays and the standard Python sequences:"
   ]
  },
  {
   "cell_type": "markdown",
   "id": "26d3e17b",
   "metadata": {},
   "source": [
    "list vs array\n",
    "\n",
    "list: a python object combined both linked-list and array for dynamic type (like vector for C but dynamic type)\n",
    "\n",
    "mean: can change the number of element in array, each element can have different data type\n",
    "\n",
    "array: fixed-size, every element have the same datatype\n",
    "\n"
   ]
  },
  {
   "cell_type": "code",
   "execution_count": 2,
   "id": "378d66e0",
   "metadata": {},
   "outputs": [
    {
     "name": "stdout",
     "output_type": "stream",
     "text": [
      "\u001b[2mResolved \u001b[1m111 packages\u001b[0m \u001b[2min 2ms\u001b[0m\u001b[0m\n",
      "\u001b[2mAudited \u001b[1m107 packages\u001b[0m \u001b[2min 0.08ms\u001b[0m\u001b[0m\n"
     ]
    }
   ],
   "source": [
    "!uv sync"
   ]
  },
  {
   "cell_type": "code",
   "execution_count": 3,
   "id": "be37ea15",
   "metadata": {},
   "outputs": [],
   "source": [
    "import numpy as np"
   ]
  },
  {
   "cell_type": "code",
   "execution_count": 4,
   "id": "03d554e5",
   "metadata": {},
   "outputs": [
    {
     "name": "stdout",
     "output_type": "stream",
     "text": [
      "[1, '2', 3.0, '0b100', [1, 2]]\n",
      "[1 2 3 4]\n",
      "[1. 2. 3. 4.]\n"
     ]
    }
   ],
   "source": [
    "# python-list\n",
    "arr = [1, \"2\", 3.0, bin(4), [1,2]]\n",
    "print(arr)\n",
    "# numpy array\n",
    "# arr = np.ndarray([1, \"2\", 3.0, bin(4)]) # raise Error\n",
    "arr = np.array([1,2,3,4])\n",
    "print(arr)\n",
    "# sepecific numpy array dtype\n",
    "arr = np.array([1,2,3,4], dtype=np.float32)\n",
    "print(arr)"
   ]
  },
  {
   "cell_type": "code",
   "execution_count": 5,
   "id": "9e975010",
   "metadata": {},
   "outputs": [
    {
     "name": "stdout",
     "output_type": "stream",
     "text": [
      "shape: (2, 3)\n",
      "dim: 2\n",
      "numpy array with shape 2 x 3 full of 0\n",
      "[[0. 0. 0.]\n",
      " [0. 0. 0.]]\n",
      "--------------------------------------------------\n",
      "shape: (5,)\n",
      "dim: 1\n",
      "numpy array with shape 5 full of 1\n",
      "[1. 1. 1. 1. 1.]\n",
      "--------------------------------------------------\n",
      "shape: (2, 2, 2)\n",
      "dim: 3\n",
      "numpy array with shape 1 x 2 x 3 full of desire value\n",
      "[[[4 4]\n",
      "  [4 4]]\n",
      "\n",
      " [[4 4]\n",
      "  [4 4]]]\n",
      "shape: (2, 3)\n",
      "dim: 2\n",
      "numpy array with shape 2 x 3 random from normal distribution\n",
      "[[-1.56915432 -0.49961416  0.27135141]\n",
      " [-1.92910279 -1.35532988 -0.50341026]]\n"
     ]
    }
   ],
   "source": [
    "# some way to create numpy array\n",
    "arr = np.zeros([2, 3])\n",
    "print(\"shape:\", arr.shape)\n",
    "print(\"dim:\", len(arr.shape))\n",
    "print(\"numpy array with shape 2 x 3 full of 0\")\n",
    "print(arr)\n",
    "\n",
    "print(\"-\"*50)\n",
    "\n",
    "arr = np.ones([5])\n",
    "print(\"shape:\", arr.shape)\n",
    "print(\"dim:\", len(arr.shape))\n",
    "print(\"numpy array with shape 5 full of 1\")\n",
    "print(arr)\n",
    "\n",
    "print(\"-\"*50)\n",
    "\n",
    "arr = np.full([2, 2, 2], 4)\n",
    "print(\"shape:\", arr.shape)\n",
    "print(\"dim:\", len(arr.shape))\n",
    "print(\"numpy array with shape 1 x 2 x 3 full of desire value\")\n",
    "print(arr)\n",
    "\n",
    "arr = np.random.randn(2, 3)\n",
    "print(\"shape:\", arr.shape)\n",
    "print(\"dim:\", len(arr.shape))\n",
    "print(\"numpy array with shape 2 x 3 random from normal distribution\")\n",
    "print(arr)"
   ]
  },
  {
   "cell_type": "code",
   "execution_count": 6,
   "id": "054c8645",
   "metadata": {},
   "outputs": [
    {
     "name": "stdout",
     "output_type": "stream",
     "text": [
      "[[ 0.25783262 -1.04605318  1.27812595]\n",
      " [-0.24549871 -0.79093242 -0.63666313]]\n",
      "-1.0460531847048349 or -1.0460531847048349\n",
      "--------------------\n",
      "first col: [ 0.25783262 -0.24549871]\n",
      "second col: [-1.04605318 -0.79093242]\n"
     ]
    }
   ],
   "source": [
    "# access element or get item\n",
    "# 2D\n",
    "arr = np.random.randn(2, 3)\n",
    "# normal\n",
    "print(arr)\n",
    "print(arr[0][1], \"or\", arr[0, 1])\n",
    "print(\"-\"*20)\n",
    "# special\n",
    "print(\"first col:\", arr[:, 0])    # get the first column\n",
    "print(\"second col:\", arr[:, 1])    # get the second column"
   ]
  },
  {
   "cell_type": "code",
   "execution_count": 7,
   "id": "58d7994e",
   "metadata": {},
   "outputs": [
    {
     "name": "stdout",
     "output_type": "stream",
     "text": [
      "+\n",
      "[[ 6 10]\n",
      " [14 18]]\n",
      "----------\n",
      "[[ 2  6]\n",
      " [10 14]]\n",
      "----------\n",
      "*\n",
      "[[ 8 16]\n",
      " [24 32]]\n",
      "----------\n",
      "/\n",
      "[[2. 4.]\n",
      " [6. 8.]]\n"
     ]
    }
   ],
   "source": [
    "# +, -, *, / -> element wise operator\n",
    "A = np.array([[4, 8], [12, 16]])\n",
    "B = np.full(A.shape, 2)\n",
    "\n",
    "\n",
    "print(\"+\")\n",
    "print(A+B)\n",
    "print(\"-\"*10)\n",
    "print(A-B)\n",
    "print(\"-\"*10)\n",
    "print(\"*\")\n",
    "print(A*B)\n",
    "print(\"-\"*10)\n",
    "print(\"/\")\n",
    "print(A/B)"
   ]
  },
  {
   "cell_type": "code",
   "execution_count": 8,
   "id": "a5e9e43f",
   "metadata": {},
   "outputs": [
    {
     "name": "stdout",
     "output_type": "stream",
     "text": [
      "[[1 2 3]\n",
      " [4 5 6]\n",
      " [7 8 9]]\n",
      "transpose\n",
      "[[1 4 7]\n",
      " [2 5 8]\n",
      " [3 6 9]]\n"
     ]
    }
   ],
   "source": [
    "# transpose\n",
    "arr = np.array([[1, 2, 3], [4, 5, 6], [7, 8, 9]])\n",
    "print(arr)\n",
    "\n",
    "print(\"transpose\")\n",
    "print(arr.T)"
   ]
  },
  {
   "cell_type": "code",
   "execution_count": 9,
   "id": "6b29594c",
   "metadata": {},
   "outputs": [
    {
     "name": "stdout",
     "output_type": "stream",
     "text": [
      "[[ 1.84814017  1.77274521 -1.55693988  0.62059279]\n",
      " [-1.61460666  0.27153287  0.94589827 -0.4171335 ]]\n"
     ]
    }
   ],
   "source": [
    "# matmul (matrix multiplication)\n",
    "A = np.random.randn(2, 3)\n",
    "B = np.random.randn(3, 4)\n",
    "\n",
    "# A (2 x 3) matmul B(3 x 4) -> C (2 x 4)\n",
    "print(A @ B)"
   ]
  },
  {
   "cell_type": "markdown",
   "id": "ee53aa16",
   "metadata": {},
   "source": [
    "## EX: metrics calc"
   ]
  },
  {
   "cell_type": "code",
   "execution_count": null,
   "id": "799d6192",
   "metadata": {},
   "outputs": [],
   "source": [
    "def PSNR(image1: np.ndarray[tuple[int, int, int], np.float32], image2: np.ndarray[tuple[int, int, int], np.float32]):\n",
    "    numerator = max(image1.max(), image2.max())\n",
    "\n",
    "    numerator = np.astype(numerator, np.uint64)**2\n",
    "\n",
    "    squared_error = (image1 - image2)**2\n",
    "    squared_error = squared_error.sum()\n",
    "    denominator = np.sqrt(squared_error)\n",
    "\n",
    "    return 10 * np.log10(numerator/denominator)"
   ]
  },
  {
   "cell_type": "code",
   "execution_count": 11,
   "id": "0902daf4",
   "metadata": {},
   "outputs": [],
   "source": [
    "from PIL import Image"
   ]
  },
  {
   "cell_type": "code",
   "execution_count": 12,
   "id": "76ab910f",
   "metadata": {},
   "outputs": [],
   "source": [
    "img1 = np.array(Image.open(\"../img.jpg\"))"
   ]
  },
  {
   "cell_type": "code",
   "execution_count": 13,
   "id": "1a5a9135",
   "metadata": {},
   "outputs": [
    {
     "name": "stderr",
     "output_type": "stream",
     "text": [
      "/var/folders/9q/4zd9js150w5dxg459jsh9rv80000gn/T/ipykernel_27051/3421985237.py:10: RuntimeWarning: divide by zero encountered in scalar divide\n",
      "  return 10 * np.log10(numerator/denominator)\n"
     ]
    },
    {
     "data": {
      "text/plain": [
       "(np.float64(5.122845810831764),\n",
       " np.float64(11.051934527020473),\n",
       " np.float64(17.16234146404545),\n",
       " np.float64(inf))"
      ]
     },
     "execution_count": 13,
     "metadata": {},
     "output_type": "execute_result"
    }
   ],
   "source": [
    "img2_20 = img1 + np.random.randint(-20, 20, img1.shape)\n",
    "img2_20[img2_20<0] = 0\n",
    "img2_20[img2_20>255] = 255\n",
    "\n",
    "img2_5 = img1 + np.random.randint(-5, 5, img1.shape)\n",
    "img2_5[img2_5<0] = 0\n",
    "img2_5[img2_5>255] = 255\n",
    "\n",
    "img2_1 = img1 + np.random.randint(-1, 1, img1.shape)\n",
    "img2_1[img2_1<0] = 0\n",
    "img2_1[img2_1>255] = 255\n",
    "\n",
    "\n",
    "PSNR(img1, img2_20), PSNR(img1, img2_5), PSNR(img1, img2_1), PSNR(img1, img1)"
   ]
  },
  {
   "cell_type": "code",
   "execution_count": 16,
   "id": "a56c607b",
   "metadata": {},
   "outputs": [],
   "source": [
    "c1 = (0.01 * 255)**2\n",
    "c2 = (0.03 * 255)**2\n",
    "\n",
    "def light(x: np.ndarray[tuple[int, int, int], np.float32], y: np.ndarray[tuple[int, int, int], np.float32]):\n",
    "    muy_x = x.mean()\n",
    "    muy_y = y.mean()\n",
    "    return (2*muy_x*muy_y + c1)/(muy_x**2 + muy_y**2 + c1)\n",
    "\n",
    "def contrast(x: np.ndarray[tuple[int, int, int], np.float32], y: np.ndarray[tuple[int, int, int], np.float32]):\n",
    "    sig_x = x.std()\n",
    "    sig_y = y.std()\n",
    "\n",
    "    return (2*sig_x*sig_y + c2)/(sig_x**2+sig_y**2 + c2)\n",
    "\n",
    "\n",
    "def structure(x: np.ndarray[tuple[int, int, int], np.float32], y: np.ndarray[tuple[int, int, int], np.float32]):\n",
    "    sig_x = x.std()\n",
    "    sig_y = y.std()\n",
    "\n",
    "    sig_xy = np.sum((x-x.mean()) * (y-y.mean())) / (np.prod(x.shape)+1)\n",
    "\n",
    "\n",
    "    return (sig_xy + c2/2) / (sig_x*sig_y + c2/2)\n",
    "\n",
    "def SSIM(x, y, alpha=1, beta=1, gamma=1):\n",
    "    x = np.astype(x, np.float64) / 255\n",
    "    y = np.astype(y, np.float64) / 255\n",
    "    return (light(x,y)**alpha) * (contrast(x,y)**beta) * (structure(x,y)**gamma)"
   ]
  },
  {
   "cell_type": "code",
   "execution_count": 17,
   "id": "07b15b96",
   "metadata": {},
   "outputs": [
    {
     "data": {
      "text/plain": [
       "(np.float64(0.999965860653209),\n",
       " np.float64(0.9999972994537686),\n",
       " np.float64(0.999999402854226),\n",
       " np.float64(0.9999999993082516))"
      ]
     },
     "execution_count": 17,
     "metadata": {},
     "output_type": "execute_result"
    }
   ],
   "source": [
    "SSIM(img1, img2_20), SSIM(img1, img2_5), SSIM(img1, img2_1), SSIM(img1, img1)"
   ]
  },
  {
   "cell_type": "code",
   "execution_count": 18,
   "id": "cdba527f",
   "metadata": {},
   "outputs": [
    {
     "data": {
      "text/plain": [
       "(1024, 1024, 3)"
      ]
     },
     "execution_count": 18,
     "metadata": {},
     "output_type": "execute_result"
    }
   ],
   "source": [
    "img1.shape"
   ]
  },
  {
   "cell_type": "code",
   "execution_count": null,
   "id": "4f9bf7f1",
   "metadata": {},
   "outputs": [],
   "source": [
    "(R, G, B)"
   ]
  },
  {
   "cell_type": "code",
   "execution_count": null,
   "id": "0f41de25",
   "metadata": {},
   "outputs": [
    {
     "data": {
      "text/plain": [
       "(np.float64(152.07988834381104),\n",
       " np.float64(139.6106081008911),\n",
       " np.float64(141.77795314788818))"
      ]
     },
     "execution_count": 38,
     "metadata": {},
     "output_type": "execute_result"
    }
   ],
   "source": [
    "img1[:, :, 0].mean(),img1[:, :, 1].mean(),img1[:, :, 2].mean()  # mean of red, green blue\n"
   ]
  },
  {
   "cell_type": "code",
   "execution_count": null,
   "id": "507a588e",
   "metadata": {},
   "outputs": [],
   "source": []
  }
 ],
 "metadata": {
  "kernelspec": {
   "display_name": ".venv",
   "language": "python",
   "name": "python3"
  },
  "language_info": {
   "codemirror_mode": {
    "name": "ipython",
    "version": 3
   },
   "file_extension": ".py",
   "mimetype": "text/x-python",
   "name": "python",
   "nbconvert_exporter": "python",
   "pygments_lexer": "ipython3",
   "version": "3.13.6"
  }
 },
 "nbformat": 4,
 "nbformat_minor": 5
}
