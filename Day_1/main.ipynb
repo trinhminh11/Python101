{
 "cells": [
  {
   "cell_type": "markdown",
   "id": "acd26263",
   "metadata": {},
   "source": [
    "## Data Type\n",
    "- <span style=\"color: #A6E22E;\">object</span>  -> everything is an object\n",
    "- <span style=\"color: #A6E22E;\">int</span>  -> integer\n",
    "- <span style=\"color: #A6E22E;\">float</span>  -> real number\n",
    "- <span style=\"color: #A6E22E;\">list  </span>  -> mutable list that contain object\n",
    "- <span style=\"color: #A6E22E;\">str   </span>  -> immutable list of charactor\n",
    "- <span style=\"color: #A6E22E;\">tuple </span>  -> immutable list\n",
    "- <span style=\"color: #A6E22E;\">set   </span>  -> mutable list but each element is different\n",
    "- <span style=\"color: #A6E22E;\">dict  </span>  -> key: value matching\n",
    "\n",
    "\n",
    "- <span style=\"color: #A6E22E;\">def   </span>  -> function\n",
    "- <span style=\"color: #A6E22E;\">class </span>  -> define object behavior"
   ]
  },
  {
   "cell_type": "markdown",
   "id": "966186c5",
   "metadata": {},
   "source": [
    "## Operator\n",
    "-- Calc operator\n",
    "- <span style=\"color: #A6E22E;\">\\+</span>:    ---> addition\n",
    "- <span style=\"color: #A6E22E;\">\\-</span>:    ---> substraction\n",
    "- <span style=\"color: #A6E22E;\">\\*</span>:    ---> multiply\n",
    "- <span style=\"color: #A6E22E;\">\\/</span>:    ---> divide\n",
    "- <span style=\"color: #A6E22E;\">\\*\\*</span>:  ---> power\n",
    "- <span style=\"color: #A6E22E;\">\\/\\/</span>:  ---> get quotient\n",
    "- <span style=\"color: #A6E22E;\">\\%</span>:    ---> get remider\n",
    "\n",
    "\n",
    "-- Compare operator\n",
    "- <span style=\"color: #A6E22E;\">></span>\n",
    "- <span style=\"color: #A6E22E;\"><</span>\n",
    "- <span style=\"color: #A6E22E;\">\\>=</span>\n",
    "- <span style=\"color: #A6E22E;\">\\<=</span>\n",
    "- <span style=\"color: #A6E22E;\">==</span>\n",
    "- <span style=\"color: #A6E22E;\">!=</span>\n",
    "\n"
   ]
  },
  {
   "cell_type": "code",
   "execution_count": 1,
   "id": "925c5c3f",
   "metadata": {},
   "outputs": [
    {
     "ename": "SyntaxError",
     "evalue": "invalid syntax (1227477979.py, line 1)",
     "output_type": "error",
     "traceback": [
      "  \u001b[36mCell\u001b[39m\u001b[36m \u001b[39m\u001b[32mIn[1]\u001b[39m\u001b[32m, line 1\u001b[39m\n\u001b[31m    \u001b[39m\u001b[31mint, float: +, -, *, /, **\u001b[39m\n              ^\n\u001b[31mSyntaxError\u001b[39m\u001b[31m:\u001b[39m invalid syntax\n"
     ]
    }
   ],
   "source": [
    "int, float: +, -, *, /, **\n",
    "\n",
    "a chia b = q (dư r)\n",
    "\n",
    "a // b = q\n",
    "a % b = r\n"
   ]
  },
  {
   "cell_type": "code",
   "execution_count": null,
   "id": "01a60c14",
   "metadata": {},
   "outputs": [],
   "source": [
    "list, tuple, str: + (concatenate)"
   ]
  },
  {
   "cell_type": "code",
   "execution_count": null,
   "id": "36db08a5",
   "metadata": {},
   "outputs": [],
   "source": [
    "a: int = 3\n",
    "a: float = 3.0\n",
    "a: str = \"3\"\n",
    "a: list = [3]\n",
    "a: tuple = (3)\n",
    "a: set = {3}\n",
    "a: dict = {\"a\": 3}"
   ]
  },
  {
   "cell_type": "markdown",
   "id": "9afef846",
   "metadata": {},
   "source": [
    "## condition if, else\n",
    "if condition:\n",
    "    do A\n",
    "\n",
    "if condition:\n",
    "    do A\n",
    "else:\n",
    "    do B\n",
    "\n",
    "if condition_1:\n",
    "    do A\n",
    "elif condition_2:\n",
    "    do B\n",
    "else:\n",
    "    do C\n",
    "\n",
    "equivilance to\n",
    "\n",
    "if condition_1:\n",
    "    do A\n",
    "else:\n",
    "    if condition_2:\n",
    "        do B\n",
    "    else:\n",
    "        do C"
   ]
  },
  {
   "cell_type": "code",
   "execution_count": null,
   "id": "b6ffc200",
   "metadata": {},
   "outputs": [],
   "source": [
    "if condition:\n",
    "    do A\n",
    "\n",
    "if condition:\n",
    "    do A\n",
    "else:\n",
    "    do B\n",
    "\n",
    "if condition_1:\n",
    "    do A\n",
    "elif condition_2:\n",
    "    do B\n",
    "else:\n",
    "    do C\n",
    "\n",
    "if condition_1:\n",
    "    do A\n",
    "else:\n",
    "    if condition_2:\n",
    "        do B\n",
    "    else:\n",
    "        do C"
   ]
  },
  {
   "cell_type": "code",
   "execution_count": null,
   "id": "f5cbe400",
   "metadata": {},
   "outputs": [],
   "source": [
    "\"\"\"\n",
    "if a less than 10000: -> reduce a by 5%\n",
    "if a greater than 10000 and less than 50000: reduce a by 5000 and 5% of a\n",
    "if a greater than 50000: reduce a by 10%\n",
    "\n",
    "return a\n",
    "\n",
    "\"\"\"\n",
    "\n",
    "a = 15000\n",
    "\n",
    "\n"
   ]
  },
  {
   "cell_type": "code",
   "execution_count": null,
   "id": "e65cd2eb",
   "metadata": {},
   "outputs": [],
   "source": [
    "if a < 10000:\n",
    "    a = a - a*5/100\n",
    "elif a < 50000:\n",
    "    a = a - 5000 - a*5/100\n",
    "else:\n",
    "    a = a - a*10/100"
   ]
  },
  {
   "cell_type": "markdown",
   "id": "4e823c8c",
   "metadata": {},
   "source": [
    "## For/While Loop"
   ]
  },
  {
   "cell_type": "markdown",
   "id": "bf5b4e50",
   "metadata": {},
   "source": [
    "### For Loop\n",
    "\n",
    "```py\n",
    "for element in holder:\n",
    "    A \n",
    "```\n",
    "with each element in holder (list style) run {A}\n",
    "\n",
    "------------------------------\n",
    "```py\n",
    "range(start, stop, step)\n",
    "```\n",
    "-> a list, first element is <span style=\"color: #A6E22E;\">start</span>, from then update <span style=\"color: #A6E22E;\">start</span> using <span style=\"color: #A6E22E;\">start</span> += <span style=\"color: #A6E22E;\">step</span> until it reach past <span style=\"color: #A6E22E;\">stop</span>\n",
    "\n",
    "*<span style=\"color: #A6E22E;\">Note</span>: range() cannot contain {stop}*\n",
    "\n",
    "------------------------------\n",
    "--usecase\n",
    "```py\n",
    "range(stop)                 # default start = 0, step = 1\n",
    "range(start, stop)          # default step = 1\n",
    "range(start, stop, step)    # use all\n",
    "```\n",
    "\n",
    "\n",
    "------------------------------\n",
    "-- e.g\n",
    "```py\n",
    "for i in range(3):\n",
    "    print(i)\n",
    "# 0\n",
    "# 1\n",
    "# 2\n",
    "```\n",
    "\n"
   ]
  },
  {
   "cell_type": "code",
   "execution_count": null,
   "id": "00727fb4",
   "metadata": {},
   "outputs": [],
   "source": [
    "sum of 1+2+3+...+n"
   ]
  },
  {
   "cell_type": "code",
   "execution_count": null,
   "id": "cd701e85",
   "metadata": {},
   "outputs": [
    {
     "data": {
      "text/plain": [
       "28"
      ]
     },
     "execution_count": 1,
     "metadata": {},
     "output_type": "execute_result"
    }
   ],
   "source": [
    "n = 7\n",
    "s = 0\n",
    "for i in range(n+1):\n",
    "    s+=i\n",
    "\n",
    "s"
   ]
  },
  {
   "cell_type": "markdown",
   "id": "7ac84f40",
   "metadata": {},
   "source": [
    "### While Loop\n",
    "```py\n",
    "while condition:\n",
    "    A\n",
    "```\n",
    "\n",
    "run {A} until if condition <span style=\"color: #AE81FF;\">False</span> -> break out of loop"
   ]
  },
  {
   "cell_type": "code",
   "execution_count": null,
   "id": "891b2ece",
   "metadata": {},
   "outputs": [
    {
     "name": "stdout",
     "output_type": "stream",
     "text": [
      "0\n",
      "1\n",
      "2\n"
     ]
    }
   ],
   "source": [
    "i = 0   # start = 0\n",
    "while i < 3:   # stop condition\n",
    "    print(i)\n",
    "\n",
    "    i+=1        # step = 1"
   ]
  },
  {
   "cell_type": "markdown",
   "id": "c76f8bcd",
   "metadata": {},
   "source": [
    "## Function\n",
    "\n",
    "```python\n",
    "def func_name(param1, param2, ...):\n",
    "    A\n",
    "    return B\n",
    "```\n",
    "\n",
    "define a function called <span style=\"color: #A6E22E;\"> func_name </span> take multiple parameters\n",
    "\n",
    "--usage\n",
    "\n",
    "<span style=\"color: #A6E22E;\">func_name</span>(param1, param2, ...)\n",
    "\n",
    "will run {A} using parameters and return {B} as the result\n"
   ]
  },
  {
   "cell_type": "code",
   "execution_count": null,
   "id": "7785d54e",
   "metadata": {},
   "outputs": [],
   "source": [
    "def sum(lst: list, offset: int = 0):\n",
    "    s = offset\n",
    "\n",
    "    for a in lst:\n",
    "        s += a\n",
    "\n",
    "    return s"
   ]
  },
  {
   "cell_type": "code",
   "execution_count": null,
   "id": "28ad0b80",
   "metadata": {},
   "outputs": [
    {
     "data": {
      "text/plain": [
       "15"
      ]
     },
     "execution_count": 36,
     "metadata": {},
     "output_type": "execute_result"
    }
   ],
   "source": [
    "sum(lst=[1,2,3],offset=9)"
   ]
  },
  {
   "cell_type": "markdown",
   "id": "bc3931ea",
   "metadata": {},
   "source": [
    "## EX"
   ]
  },
  {
   "cell_type": "code",
   "execution_count": 2,
   "id": "ff57fae4",
   "metadata": {},
   "outputs": [],
   "source": [
    "import numpy as np"
   ]
  },
  {
   "cell_type": "code",
   "execution_count": 3,
   "id": "0c5a7b8a",
   "metadata": {},
   "outputs": [],
   "source": [
    "def checker(func: callable, args: list, target) -> bool:\n",
    "    try:\n",
    "        result = (func(*args) == target)\n",
    "    except:\n",
    "        result = False\n",
    "    return result"
   ]
  },
  {
   "cell_type": "markdown",
   "id": "adfcbac9",
   "metadata": {},
   "source": [
    "### EX1"
   ]
  },
  {
   "cell_type": "code",
   "execution_count": 4,
   "id": "1f134ca2",
   "metadata": {},
   "outputs": [],
   "source": [
    "def solve(nums: list[int], target: int) -> tuple[int, int]:\n",
    "    \"\"\"\n",
    "    Args:\n",
    "        nums (list[int])\n",
    "        target (int)\n",
    "\n",
    "    Returns:\n",
    "        2 numbers in nums that num_1 + num_2 = target\n",
    "    \"\"\"\n",
    "\n",
    "    n = len(nums)\n",
    "\n",
    "    for i in range(n-1):\n",
    "        for j in range(i+1, n):\n",
    "            if nums[i] + nums[j] == target:\n",
    "                return nums[i], nums[j]"
   ]
  },
  {
   "cell_type": "code",
   "execution_count": 5,
   "id": "b4fca597",
   "metadata": {},
   "outputs": [
    {
     "name": "stdout",
     "output_type": "stream",
     "text": [
      "True\n",
      "True\n",
      "True\n"
     ]
    }
   ],
   "source": [
    "nums = [2,7,11,15]\n",
    "target = 9\n",
    "output = (2, 7)\n",
    "print(checker(solve, [nums, target], output))\n",
    "\n",
    "nums = [3,2,4]\n",
    "target = 6\n",
    "output = (2, 4)\n",
    "print(checker(solve, [nums, target], output))\n",
    "\n",
    "nums = [3,3]\n",
    "target = 6\n",
    "output = (3, 3)\n",
    "print(checker(solve, [nums, target], output))"
   ]
  },
  {
   "cell_type": "markdown",
   "id": "d5b06c23",
   "metadata": {},
   "source": [
    "### EX2"
   ]
  },
  {
   "cell_type": "markdown",
   "id": "76c5de0a",
   "metadata": {},
   "source": [
    "#### Naive"
   ]
  },
  {
   "cell_type": "code",
   "execution_count": null,
   "id": "f13029c1",
   "metadata": {},
   "outputs": [],
   "source": [
    "def solve(lst: list[int], target: int) -> bool:\n",
    "    \"\"\"\n",
    "    Args:\n",
    "        lst (list[int]) (a sorted array)\n",
    "        target (int)\n",
    "\n",
    "    Returns:\n",
    "        the index of target in lst\n",
    "    \"\"\"\n",
    "    n = len(lst)\n",
    "    for i in range (n):\n",
    "        if lst[i] == target:\n",
    "            return i\n",
    "    # O(n)"
   ]
  },
  {
   "cell_type": "markdown",
   "id": "7eb677db",
   "metadata": {},
   "source": [
    "#### Binary Search"
   ]
  },
  {
   "cell_type": "code",
   "execution_count": 63,
   "id": "a2c213a4",
   "metadata": {},
   "outputs": [],
   "source": [
    "def solve(lst: list[int], target: int) -> bool:\n",
    "    \"\"\"\n",
    "    Args:\n",
    "        lst (list[int]) (a sorted array)\n",
    "        target (int)\n",
    "\n",
    "    Returns:\n",
    "        the index of target in lst\n",
    "    \"\"\"\n",
    "    left = 0\n",
    "    right = len(lst)-1\n",
    "\n",
    "    while True:\n",
    "        middle = (right+left)//2\n",
    "\n",
    "        if lst[middle] > target:\n",
    "            right = middle-1\n",
    "        elif lst[middle] < target:\n",
    "            left = middle+1\n",
    "        else:\n",
    "            return middle\n",
    "\n",
    "    # O(log(n))"
   ]
  },
  {
   "cell_type": "code",
   "execution_count": 67,
   "id": "2fde7db1",
   "metadata": {},
   "outputs": [
    {
     "data": {
      "text/plain": [
       "True"
      ]
     },
     "execution_count": 67,
     "metadata": {},
     "output_type": "execute_result"
    }
   ],
   "source": [
    "res = [False] * 4\n",
    "for i in range(4):\n",
    "    lst = np.arange(100)\n",
    "    output = np.random.randint(0, 100)\n",
    "    target = lst[output]\n",
    "    res[i] = checker(solve, [lst, target], output)\n",
    "all(res)"
   ]
  },
  {
   "cell_type": "markdown",
   "id": "2ff49a4a",
   "metadata": {},
   "source": [
    "#### EX 3"
   ]
  },
  {
   "cell_type": "code",
   "execution_count": null,
   "id": "78cf5698",
   "metadata": {},
   "outputs": [],
   "source": [
    "def solve(n: int) -> str:\n",
    "    \"\"\"\n",
    "    * NOTE:\n",
    "        with int x (0<=x <= 9)\n",
    "        string of x is:\n",
    "        chr(x + 48)\n",
    "    Args:\n",
    "        n (int): an integer\n",
    "\n",
    "    Returns:\n",
    "        n as string\n",
    "\n",
    "    \"\"\"\n",
    "    n%10=\n",
    "    n//=10\n"
   ]
  },
  {
   "cell_type": "code",
   "execution_count": 78,
   "id": "e82755ab",
   "metadata": {},
   "outputs": [
    {
     "data": {
      "text/plain": [
       "False"
      ]
     },
     "execution_count": 78,
     "metadata": {},
     "output_type": "execute_result"
    }
   ],
   "source": [
    "res = [False]*4\n",
    "for i in range(4):\n",
    "    n = np.random.randint(-1000, 1000)\n",
    "\n",
    "    res[i] = checker(solve, [n], str(n))\n",
    "\n",
    "all(res)"
   ]
  },
  {
   "cell_type": "code",
   "execution_count": null,
   "id": "a5598f23",
   "metadata": {},
   "outputs": [],
   "source": []
  }
 ],
 "metadata": {
  "kernelspec": {
   "display_name": ".venv",
   "language": "python",
   "name": "python3"
  },
  "language_info": {
   "codemirror_mode": {
    "name": "ipython",
    "version": 3
   },
   "file_extension": ".py",
   "mimetype": "text/x-python",
   "name": "python",
   "nbconvert_exporter": "python",
   "pygments_lexer": "ipython3",
   "version": "3.13.6"
  }
 },
 "nbformat": 4,
 "nbformat_minor": 5
}
