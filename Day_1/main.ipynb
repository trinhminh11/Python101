{
 "cells": [
  {
   "cell_type": "markdown",
   "id": "acd26263",
   "metadata": {},
   "source": [
    "## Data Type\n",
    "- <span style=\"color: #A6E22E;\">object</span>  -> everything is an object\n",
    "- <span style=\"color: #A6E22E;\">int</span>  -> integer\n",
    "- <span style=\"color: #A6E22E;\">float</span>  -> real number\n",
    "- <span style=\"color: #A6E22E;\">list  </span>  -> mutable list that contain object\n",
    "- <span style=\"color: #A6E22E;\">str   </span>  -> immutable list of charactor\n",
    "- <span style=\"color: #A6E22E;\">tuple </span>  -> immutable list\n",
    "- <span style=\"color: #A6E22E;\">set   </span>  -> mutable list but each element is different\n",
    "- <span style=\"color: #A6E22E;\">dict  </span>  -> key: value matching\n",
    "\n",
    "\n",
    "- <span style=\"color: #A6E22E;\">def   </span>  -> function\n",
    "- <span style=\"color: #A6E22E;\">class </span>  -> define object behavior"
   ]
  },
  {
   "cell_type": "markdown",
   "id": "966186c5",
   "metadata": {},
   "source": [
    "## Operator\n",
    "-- Calc operator\n",
    "- <span style=\"color: #A6E22E;\">\\+</span>:    ---> addition\n",
    "- <span style=\"color: #A6E22E;\">\\-</span>:    ---> substraction\n",
    "- <span style=\"color: #A6E22E;\">\\*</span>:    ---> multiply\n",
    "- <span style=\"color: #A6E22E;\">\\/</span>:    ---> divide\n",
    "- <span style=\"color: #A6E22E;\">\\*\\*</span>:  ---> power\n",
    "- <span style=\"color: #A6E22E;\">\\/\\/</span>:  ---> get quotient\n",
    "- <span style=\"color: #A6E22E;\">\\%</span>:    ---> get remider\n",
    "\n",
    "\n",
    "-- Compare operator\n",
    "- <span style=\"color: #A6E22E;\">></span>\n",
    "- <span style=\"color: #A6E22E;\"><</span>\n",
    "- <span style=\"color: #A6E22E;\">\\>=</span>\n",
    "- <span style=\"color: #A6E22E;\">\\<=</span>\n",
    "- <span style=\"color: #A6E22E;\">==</span>\n",
    "- <span style=\"color: #A6E22E;\">!=</span>\n",
    "\n"
   ]
  },
  {
   "cell_type": "markdown",
   "id": "57ffbf75",
   "metadata": {},
   "source": [
    "```py\n",
    "int, float: +, -, *, /, **\n",
    "\n",
    "a chia b = q (dư r)\n",
    "\n",
    "a // b = q\n",
    "a % b = r\n",
    "\n",
    "```"
   ]
  },
  {
   "cell_type": "markdown",
   "id": "4beecc52",
   "metadata": {},
   "source": [
    "```py\n",
    "list, tuple, str: + is concatenate\n",
    "```"
   ]
  },
  {
   "cell_type": "code",
   "execution_count": 1,
   "id": "36db08a5",
   "metadata": {},
   "outputs": [],
   "source": [
    "a: int = 3\n",
    "a: float = 3.0\n",
    "a: str = \"3\"\n",
    "a: list = [3]\n",
    "a: tuple = (3)\n",
    "a: set = {3}\n",
    "a: dict = {\"a\": 3}"
   ]
  },
  {
   "cell_type": "markdown",
   "id": "9afef846",
   "metadata": {},
   "source": [
    "## condition if, else\n",
    "```py\n",
    "if condition:\n",
    "    do A\n",
    "\n",
    "if condition:\n",
    "    do A\n",
    "else:\n",
    "    do B\n",
    "\n",
    "if condition_1:\n",
    "    do A\n",
    "elif condition_2:\n",
    "    do B\n",
    "else:\n",
    "    do C\n",
    "\n",
    "equivilent to\n",
    "\n",
    "if condition_1:\n",
    "    do A\n",
    "else:\n",
    "    if condition_2:\n",
    "        do B\n",
    "    else:\n",
    "        do C\n",
    "```"
   ]
  },
  {
   "cell_type": "code",
   "execution_count": 2,
   "id": "f5cbe400",
   "metadata": {},
   "outputs": [],
   "source": [
    "\"\"\"\n",
    "if a less than 10000: -> reduce a by 5%\n",
    "if a greater than 10000 and less than 50000: reduce a by 5000 and 5% of a\n",
    "if a greater than 50000: reduce a by 10%\n",
    "\n",
    "return a\n",
    "\n",
    "\"\"\"\n",
    "\n",
    "a = 15000\n",
    "\n",
    "if a < 10000:\n",
    "    a = a - a*5/100\n",
    "elif a < 50000:\n",
    "    a = a - 5000 - a*5/100\n",
    "else:\n",
    "    a = a - a*10/100"
   ]
  },
  {
   "cell_type": "markdown",
   "id": "4e823c8c",
   "metadata": {},
   "source": [
    "## For/While Loop"
   ]
  },
  {
   "cell_type": "markdown",
   "id": "bf5b4e50",
   "metadata": {},
   "source": [
    "### For Loop\n",
    "\n",
    "```py\n",
    "for element in holder:\n",
    "    A \n",
    "```\n",
    "with each element in holder (list style) run {A}\n",
    "\n",
    "------------------------------\n",
    "```py\n",
    "range(start, stop, step)\n",
    "```\n",
    "-> a list, first element is <span style=\"color: #A6E22E;\">start</span>, from then update <span style=\"color: #A6E22E;\">start</span> using <span style=\"color: #A6E22E;\">start</span> += <span style=\"color: #A6E22E;\">step</span> until it reach past <span style=\"color: #A6E22E;\">stop</span>\n",
    "\n",
    "*<span style=\"color: #A6E22E;\">Note</span>: range() cannot contain {stop}*\n",
    "\n",
    "------------------------------\n",
    "--usecase\n",
    "```py\n",
    "range(stop)                 # default start = 0, step = 1\n",
    "range(start, stop)          # default step = 1\n",
    "range(start, stop, step)    # use all\n",
    "```\n",
    "\n",
    "\n",
    "------------------------------\n",
    "-- e.g\n",
    "```py\n",
    "for i in range(3):\n",
    "    print(i)\n",
    "# 0\n",
    "# 1\n",
    "# 2\n",
    "```\n",
    "\n"
   ]
  },
  {
   "cell_type": "code",
   "execution_count": 3,
   "id": "00727fb4",
   "metadata": {},
   "outputs": [
    {
     "data": {
      "text/plain": [
       "28"
      ]
     },
     "execution_count": 3,
     "metadata": {},
     "output_type": "execute_result"
    }
   ],
   "source": [
    "# sum of 1+2+3+...+n\n",
    "\n",
    "n = 7\n",
    "s = 0\n",
    "for i in range(n+1):\n",
    "    s+=i\n",
    "\n",
    "s"
   ]
  },
  {
   "cell_type": "markdown",
   "id": "7ac84f40",
   "metadata": {},
   "source": [
    "### While Loop\n",
    "```py\n",
    "while condition:\n",
    "    A\n",
    "```\n",
    "\n",
    "run {A} until if condition <span style=\"color: #AE81FF;\">False</span> -> break out of loop"
   ]
  },
  {
   "cell_type": "code",
   "execution_count": 4,
   "id": "891b2ece",
   "metadata": {},
   "outputs": [
    {
     "name": "stdout",
     "output_type": "stream",
     "text": [
      "0\n",
      "1\n",
      "2\n"
     ]
    }
   ],
   "source": [
    "i = 0   # start = 0\n",
    "while i < 3:   # stop condition\n",
    "    print(i)\n",
    "\n",
    "    i+=1        # step = 1"
   ]
  },
  {
   "cell_type": "markdown",
   "id": "c76f8bcd",
   "metadata": {},
   "source": [
    "## Function\n",
    "\n",
    "```python\n",
    "def func_name(param1, param2, ...):\n",
    "    A\n",
    "    return B\n",
    "```\n",
    "\n",
    "define a function called <span style=\"color: #A6E22E;\"> func_name </span> take multiple parameters\n",
    "\n",
    "--usage\n",
    "\n",
    "<span style=\"color: #A6E22E;\">func_name</span>(param1, param2, ...)\n",
    "\n",
    "will run {A} using parameters and return {B} as the result\n"
   ]
  },
  {
   "cell_type": "code",
   "execution_count": 5,
   "id": "7785d54e",
   "metadata": {},
   "outputs": [],
   "source": [
    "def sum(lst: list, offset: int = 0):\n",
    "    s = offset\n",
    "\n",
    "    for a in lst:\n",
    "        s += a\n",
    "\n",
    "    return s"
   ]
  },
  {
   "cell_type": "code",
   "execution_count": 6,
   "id": "28ad0b80",
   "metadata": {},
   "outputs": [
    {
     "data": {
      "text/plain": [
       "15"
      ]
     },
     "execution_count": 6,
     "metadata": {},
     "output_type": "execute_result"
    }
   ],
   "source": [
    "sum(lst=[1,2,3],offset=9)"
   ]
  },
  {
   "cell_type": "markdown",
   "id": "bc3931ea",
   "metadata": {},
   "source": [
    "## EX"
   ]
  },
  {
   "cell_type": "code",
   "execution_count": 7,
   "id": "ff57fae4",
   "metadata": {},
   "outputs": [],
   "source": [
    "import numpy as np"
   ]
  },
  {
   "cell_type": "code",
   "execution_count": 8,
   "id": "0c5a7b8a",
   "metadata": {},
   "outputs": [],
   "source": [
    "def checker(func: callable, args: list, target) -> bool:\n",
    "    try:\n",
    "        result = (func(*args) == target)\n",
    "    except:\n",
    "        result = False\n",
    "    return result"
   ]
  },
  {
   "cell_type": "markdown",
   "id": "adfcbac9",
   "metadata": {},
   "source": [
    "### EX1"
   ]
  },
  {
   "cell_type": "code",
   "execution_count": 9,
   "id": "1f134ca2",
   "metadata": {},
   "outputs": [],
   "source": [
    "def solve(nums: list[int], target: int) -> tuple[int, int]:\n",
    "    \"\"\"\n",
    "    Args:\n",
    "        nums (list[int])\n",
    "        target (int)\n",
    "\n",
    "    Returns:\n",
    "        2 numbers in nums that num_1 + num_2 = target\n",
    "    \"\"\"\n",
    "\n",
    "    n = len(nums)\n",
    "\n",
    "    for i in range(n-1):\n",
    "        for j in range(i+1, n):\n",
    "            if nums[i] + nums[j] == target:\n",
    "                return nums[i], nums[j]"
   ]
  },
  {
   "cell_type": "code",
   "execution_count": 10,
   "id": "b4fca597",
   "metadata": {},
   "outputs": [
    {
     "name": "stdout",
     "output_type": "stream",
     "text": [
      "True\n",
      "True\n",
      "True\n"
     ]
    }
   ],
   "source": [
    "nums = [2,7,11,15]\n",
    "target = 9\n",
    "output = (2, 7)\n",
    "print(checker(solve, [nums, target], output))\n",
    "\n",
    "nums = [3,2,4]\n",
    "target = 6\n",
    "output = (2, 4)\n",
    "print(checker(solve, [nums, target], output))\n",
    "\n",
    "nums = [3,3]\n",
    "target = 6\n",
    "output = (3, 3)\n",
    "print(checker(solve, [nums, target], output))"
   ]
  },
  {
   "cell_type": "markdown",
   "id": "d5b06c23",
   "metadata": {},
   "source": [
    "### EX2"
   ]
  },
  {
   "cell_type": "markdown",
   "id": "76c5de0a",
   "metadata": {},
   "source": [
    "#### Naive"
   ]
  },
  {
   "cell_type": "code",
   "execution_count": 11,
   "id": "f13029c1",
   "metadata": {},
   "outputs": [],
   "source": [
    "def solve(lst: list[int], target: int) -> bool:\n",
    "    \"\"\"\n",
    "    Args:\n",
    "        lst (list[int]) (a sorted array)\n",
    "        target (int)\n",
    "\n",
    "    Returns:\n",
    "        the index of target in lst\n",
    "    \"\"\"\n",
    "    n = len(lst)\n",
    "    for i in range (n):\n",
    "        if lst[i] == target:\n",
    "            return i\n",
    "    # O(n)"
   ]
  },
  {
   "cell_type": "markdown",
   "id": "7eb677db",
   "metadata": {},
   "source": [
    "#### Binary Search"
   ]
  },
  {
   "cell_type": "code",
   "execution_count": 12,
   "id": "a2c213a4",
   "metadata": {},
   "outputs": [],
   "source": [
    "def solve(lst: list[int], target: int) -> bool:\n",
    "    \"\"\"\n",
    "    Args:\n",
    "        lst (list[int]) (a sorted array)\n",
    "        target (int)\n",
    "\n",
    "    Returns:\n",
    "        the index of target in lst\n",
    "    \"\"\"\n",
    "    left = 0\n",
    "    right = len(lst)-1\n",
    "\n",
    "    while True:\n",
    "        middle = (right+left)//2\n",
    "\n",
    "        if lst[middle] > target:\n",
    "            right = middle-1\n",
    "        elif lst[middle] < target:\n",
    "            left = middle+1\n",
    "        else:\n",
    "            return middle\n",
    "\n",
    "    # O(log(n))"
   ]
  },
  {
   "cell_type": "code",
   "execution_count": 13,
   "id": "2fde7db1",
   "metadata": {},
   "outputs": [
    {
     "data": {
      "text/plain": [
       "True"
      ]
     },
     "execution_count": 13,
     "metadata": {},
     "output_type": "execute_result"
    }
   ],
   "source": [
    "res = [False] * 4\n",
    "for i in range(4):\n",
    "    lst = np.arange(100)\n",
    "    output = np.random.randint(0, 100)\n",
    "    target = lst[output]\n",
    "    res[i] = checker(solve, [lst, target], output)\n",
    "all(res)"
   ]
  },
  {
   "cell_type": "markdown",
   "id": "2ff49a4a",
   "metadata": {},
   "source": [
    "#### EX 3"
   ]
  },
  {
   "cell_type": "code",
   "execution_count": 14,
   "id": "78cf5698",
   "metadata": {},
   "outputs": [],
   "source": [
    "def solve(n: int) -> str:\n",
    "    \"\"\"\n",
    "    * NOTE:\n",
    "        with int x (0<=x <= 9)\n",
    "        string of x is:\n",
    "        chr(x + 48)\n",
    "    Args:\n",
    "        n (int): an integer\n",
    "\n",
    "    Returns:\n",
    "        n as string\n",
    "\n",
    "    \"\"\"\n",
    "\n",
    "    def to_char(x: int):\n",
    "        if x < 0 or x > 9:\n",
    "            raise ValueError(\"x must be a single integer\")\n",
    "        return chr(x+48)\n",
    "\n",
    "    positive = True\n",
    "    if n < 0:\n",
    "        positive = False\n",
    "        n = -n\n",
    "\n",
    "    rev = \"\"\n",
    "\n",
    "    while n>0:\n",
    "        x = n%10\n",
    "        n//=10\n",
    "        rev += to_char(x)\n",
    "\n",
    "    res = \"\"\n",
    "\n",
    "    for i in range (len(rev)-1, -1, -1):\n",
    "        res+=rev[i]\n",
    "\n",
    "    if not positive:\n",
    "        res = \"-\" + res\n",
    "\n",
    "    return res\n"
   ]
  },
  {
   "cell_type": "code",
   "execution_count": 15,
   "id": "e82755ab",
   "metadata": {},
   "outputs": [
    {
     "data": {
      "text/plain": [
       "True"
      ]
     },
     "execution_count": 15,
     "metadata": {},
     "output_type": "execute_result"
    }
   ],
   "source": [
    "res = [False]*4\n",
    "for i in range(4):\n",
    "    n = np.random.randint(-1000, 1000)\n",
    "\n",
    "    res[i] = checker(solve, [n], str(n))\n",
    "\n",
    "all(res)"
   ]
  },
  {
   "cell_type": "markdown",
   "id": "1e6c8cb0",
   "metadata": {},
   "source": [
    "#### EX 4"
   ]
  },
  {
   "cell_type": "code",
   "execution_count": 16,
   "id": "a5598f23",
   "metadata": {},
   "outputs": [],
   "source": [
    "def solve(n: int) -> str:\n",
    "    \"\"\"\n",
    "    Args:\n",
    "        n (int): an integer\n",
    "\n",
    "    Returns:\n",
    "        True if n is palidrome\n",
    "    \"\"\"\n",
    "\n",
    "    if n < 0:\n",
    "        return False\n",
    "\n",
    "    original = n\n",
    "\n",
    "    res = 0\n",
    "    while n > 0:\n",
    "        x = n% 10\n",
    "        n//=10\n",
    "        res = res * 10 + x\n",
    "\n",
    "    if res == original:\n",
    "        return True\n",
    "\n",
    "    return False\n"
   ]
  },
  {
   "cell_type": "code",
   "execution_count": 17,
   "id": "017df5a6",
   "metadata": {},
   "outputs": [
    {
     "data": {
      "text/plain": [
       "True"
      ]
     },
     "execution_count": 17,
     "metadata": {},
     "output_type": "execute_result"
    }
   ],
   "source": [
    "res = [False]*4\n",
    "for i in range(4):\n",
    "    n = np.random.randint(10, 1000)\n",
    "\n",
    "    if str(n) == str(n)[::-1]:\n",
    "        output = True\n",
    "    else:\n",
    "        output = False\n",
    "\n",
    "\n",
    "    res[i] = checker(solve, [n], output)\n",
    "\n",
    "all(res)"
   ]
  },
  {
   "cell_type": "markdown",
   "id": "5d48a6ff",
   "metadata": {},
   "source": [
    "#### EX 5"
   ]
  },
  {
   "cell_type": "code",
   "execution_count": 18,
   "id": "ea057a41",
   "metadata": {},
   "outputs": [],
   "source": [
    "def solve(s: str) -> str:\n",
    "    \"\"\"\n",
    "    Args:\n",
    "        s (str)\n",
    "\n",
    "    Returns:\n",
    "        True if s is palidrome\n",
    "    \"\"\"\n",
    "    n = len(s)\n",
    "    for i in range(n//2):\n",
    "        if s[i] != s[n - i - 1]:\n",
    "            return False\n",
    "    return True"
   ]
  },
  {
   "cell_type": "code",
   "execution_count": 19,
   "id": "d2b84659",
   "metadata": {},
   "outputs": [
    {
     "data": {
      "text/plain": [
       "True"
      ]
     },
     "execution_count": 19,
     "metadata": {},
     "output_type": "execute_result"
    }
   ],
   "source": [
    "res = [False]*4\n",
    "for i in range(4):\n",
    "    n = np.random.randint(10, 1000)\n",
    "\n",
    "    if str(n) == str(n)[::-1]:\n",
    "        output = True\n",
    "    else:\n",
    "        output = False\n",
    "\n",
    "    res[i] = checker(solve, [str(n)], output)\n",
    "\n",
    "all(res)"
   ]
  }
 ],
 "metadata": {
  "kernelspec": {
   "display_name": ".venv",
   "language": "python",
   "name": "python3"
  },
  "language_info": {
   "codemirror_mode": {
    "name": "ipython",
    "version": 3
   },
   "file_extension": ".py",
   "mimetype": "text/x-python",
   "name": "python",
   "nbconvert_exporter": "python",
   "pygments_lexer": "ipython3",
   "version": "3.13.6"
  }
 },
 "nbformat": 4,
 "nbformat_minor": 5
}
