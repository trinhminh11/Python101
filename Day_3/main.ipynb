{
 "cells": [
  {
   "cell_type": "markdown",
   "id": "98b95f73",
   "metadata": {},
   "source": [
    "# Class and object\n",
    "\n",
    "object vs instance: e.g: human is an object, i'm an instance of \"human\", you're an instance of \"human\"\n",
    "\n",
    "For basic and normal use\n",
    "\n",
    "```py\n",
    "class ClsName:\n",
    "    def __init__(self, param1, param2, ...):    # self is a must, indicate the instance calling\n",
    "        self.var1 = ...                         # attribute\n",
    "        self.var2 = ...                         # attribute\n",
    "    \n",
    "    def med1(self, param1, param2, ...):\n",
    "        pass\n",
    "\n",
    "    def med2(self, param1, param2, ...):\n",
    "        pass\n",
    "    # self is also a must in normal method\n",
    "```\n",
    "\n",
    "naming convention:\n",
    "- for class name: PascalCase (capitalize first letter of each word)\n",
    "- var name or long function name: snake_case (add _ to seperate words)\n",
    "- for short function name (usally 2 words): camelCase (like PascalCase but first letter is lower case)"
   ]
  },
  {
   "cell_type": "code",
   "execution_count": null,
   "id": "bc8db55c",
   "metadata": {},
   "outputs": [],
   "source": [
    "class Node:\n",
    "    def __init__(self, value: int):\n",
    "        self.value = value\n",
    "        self.next: 'Node' = None\n"
   ]
  },
  {
   "cell_type": "code",
   "execution_count": null,
   "id": "d10f701a",
   "metadata": {},
   "outputs": [],
   "source": [
    "class Queue:\n",
    "    def __init__(self):\n",
    "        self.head: Node = None\n",
    "        self.tail: Node = None\n",
    "\n",
    "    def enqueue(self, value: int):\n",
    "        new_node = Node(value)\n",
    "\n",
    "        if self.tail is None: # no head and no tail:\n",
    "            self.head = new_node\n",
    "            self.tail = new_node\n",
    "        else:\n",
    "            self.tail.next = new_node\n",
    "            self.tail = new_node\n",
    "\n",
    "    def dequeue(self):\n",
    "        if self.head is None:\n",
    "            return None\n",
    "        current = self.head\n",
    "        self.head = self.head.next\n",
    "        if self.head is None:\n",
    "            self.tail = None\n",
    "        return current\n",
    "\n",
    "    def peek(self):\n",
    "        if not self.head:\n",
    "            return None\n",
    "        return self.head.value\n",
    "\n",
    "    def is_empty(self):\n",
    "        return self.head is None\n",
    "\n",
    "    def print(self):\n",
    "        current = self.head\n",
    "        while True:\n",
    "            print(current.value)\n",
    "            current = current.next\n",
    "            if current is None:\n",
    "                break"
   ]
  },
  {
   "cell_type": "code",
   "execution_count": 56,
   "id": "7af15251",
   "metadata": {},
   "outputs": [],
   "source": [
    "q = Queue()"
   ]
  },
  {
   "cell_type": "code",
   "execution_count": 57,
   "id": "bb6b16ca",
   "metadata": {},
   "outputs": [
    {
     "name": "stdout",
     "output_type": "stream",
     "text": [
      "2 3 4 5 6 7 8 9 \n"
     ]
    }
   ],
   "source": [
    "q.enqueue(1)\n",
    "q.enqueue(2)\n",
    "q.enqueue(3)\n",
    "q.enqueue(4)\n",
    "q.enqueue(5)\n",
    "q.enqueue(6)\n",
    "q.enqueue(7)\n",
    "q.enqueue(8)\n",
    "q.enqueue(9)\n",
    "q.dequeue()\n",
    "print(q)"
   ]
  },
  {
   "cell_type": "code",
   "execution_count": 38,
   "id": "8b913c7e",
   "metadata": {},
   "outputs": [],
   "source": [
    "class Stack:\n",
    "    def __init__(self):\n",
    "        self.top: Node = None\n",
    "\n",
    "    def add(self, value):\n",
    "        new_node = Node(value)\n",
    "\n",
    "        if self.top is not None:\n",
    "            new_node.next = self.top\n",
    "        self.top = new_node\n",
    "\n",
    "    def pop(self):\n",
    "        if self.top is None:\n",
    "            return None\n",
    "        current = self.top\n",
    "        self.top = self.top.next\n",
    "        return current\n",
    "        pass\n",
    "\n",
    "    def print(self):\n",
    "        current = self.top\n",
    "        while current is not None:\n",
    "            print(current.value)\n",
    "            current = current.next\n"
   ]
  },
  {
   "cell_type": "code",
   "execution_count": 40,
   "id": "4a7774e0",
   "metadata": {},
   "outputs": [
    {
     "name": "stdout",
     "output_type": "stream",
     "text": [
      "4\n",
      "3\n",
      "2\n",
      "1\n",
      "0\n"
     ]
    }
   ],
   "source": [
    "s = Stack()\n",
    "s.add(0)\n",
    "s.add(1)\n",
    "s.add(2)\n",
    "s.add(3)\n",
    "s.add(4)\n",
    "s.add(5)\n",
    "s.pop()\n",
    "s.print()"
   ]
  }
 ],
 "metadata": {
  "kernelspec": {
   "display_name": ".venv",
   "language": "python",
   "name": "python3"
  },
  "language_info": {
   "codemirror_mode": {
    "name": "ipython",
    "version": 3
   },
   "file_extension": ".py",
   "mimetype": "text/x-python",
   "name": "python",
   "nbconvert_exporter": "python",
   "pygments_lexer": "ipython3",
   "version": "3.13.6"
  }
 },
 "nbformat": 4,
 "nbformat_minor": 5
}
